{
 "cells": [
  {
   "cell_type": "markdown",
   "id": "7c677bdb",
   "metadata": {},
   "source": [
    "# Итоговая работа"
   ]
  },
  {
   "cell_type": "markdown",
   "id": "a4f85c50",
   "metadata": {},
   "source": [
    "Провести дисперсионный анализ для определения того, есть ли различия среднего роста среди взрослых футболистов, хоккеистов и штангистов.\n",
    "Даны значения роста в трех группах случайно выбранных спортсменов:\n",
    "\n",
    "Футболисты: 173, 175, 180, 178, 177, 185, 183, 182.\n",
    "\n",
    "Хоккеисты: 177, 179, 180, 188, 177, 172, 171, 184, 180.\n",
    "\n",
    "Штангисты: 172, 173, 169, 177, 166, 180, 178, 177, 172, 166, 170."
   ]
  },
  {
   "cell_type": "code",
   "execution_count": 1,
   "id": "e450cbc7",
   "metadata": {},
   "outputs": [],
   "source": [
    "import numpy as np\n",
    "\n",
    "soccer_player = np.array([173, 175, 180, 178, 177, 185, 183, 182])\n",
    "hockey_player = np.array([177, 179, 180, 188, 177, 172, 171, 184, 180])\n",
    "weightlifter = np.array([172, 173, 169, 177, 166, 180, 178, 177, 172, 166, 170])"
   ]
  },
  {
   "cell_type": "code",
   "execution_count": 2,
   "id": "c21dabbe",
   "metadata": {},
   "outputs": [
    {
     "name": "stdout",
     "output_type": "stream",
     "text": [
      "ShapiroResult(statistic=0.9775082468986511, pvalue=0.9495404362678528)\n",
      "ShapiroResult(statistic=0.9579196572303772, pvalue=0.7763139009475708)\n",
      "ShapiroResult(statistic=0.9386808276176453, pvalue=0.5051165223121643)\n"
     ]
    }
   ],
   "source": [
    "# проверка на нормальность\n",
    "\n",
    "from scipy import stats\n",
    "\n",
    "print(stats.shapiro(soccer_player))\n",
    "print(stats.shapiro(hockey_player))\n",
    "print(stats.shapiro(weightlifter))"
   ]
  },
  {
   "cell_type": "code",
   "execution_count": 3,
   "id": "b2264f9e",
   "metadata": {},
   "outputs": [
    {
     "data": {
      "text/plain": [
       "F_onewayResult(statistic=5.500053450812596, pvalue=0.010482206918698694)"
      ]
     },
     "execution_count": 3,
     "metadata": {},
     "output_type": "execute_result"
    }
   ],
   "source": [
    "stats.f_oneway(soccer_player, hockey_player, weightlifter)"
   ]
  },
  {
   "cell_type": "markdown",
   "id": "f4618881",
   "metadata": {},
   "source": [
    "### Табличное значение критерия Фишера равно 3,38, pvalue = 0.01, то можно сделать вывод что различия среднего роста среди взрослых футболистов, хоккеистов и штангистов ЕСТЬ!"
   ]
  },
  {
   "cell_type": "code",
   "execution_count": null,
   "id": "ffe64951",
   "metadata": {},
   "outputs": [],
   "source": []
  }
 ],
 "metadata": {
  "kernelspec": {
   "display_name": "Python 3 (ipykernel)",
   "language": "python",
   "name": "python3"
  },
  "language_info": {
   "codemirror_mode": {
    "name": "ipython",
    "version": 3
   },
   "file_extension": ".py",
   "mimetype": "text/x-python",
   "name": "python",
   "nbconvert_exporter": "python",
   "pygments_lexer": "ipython3",
   "version": "3.9.13"
  }
 },
 "nbformat": 4,
 "nbformat_minor": 5
}
