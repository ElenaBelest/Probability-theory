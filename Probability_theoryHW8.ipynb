{
 "cells": [
  {
   "cell_type": "markdown",
   "id": "ec0b0503",
   "metadata": {},
   "source": [
    "**Задача 1.** Даны значения величины заработной платы заемщиков банка (zp) и значения их поведенческого кредитного скоринга (ks):\n",
    "\n",
    "zp = [35, 45, 190, 200, 40, 70, 54, 150, 120, 110],\n",
    "\n",
    "ks = [401, 574, 874, 919, 459, 739, 653, 902, 746, 832].\n",
    "\n",
    "Найдите ковариацию этих двух величин с помощью элементарных действий, а затем с помощью функции cov из numpy\n",
    "\n",
    "Полученные значения должны быть равны.\n",
    "\n",
    "Найдите коэффициент корреляции Пирсона с помощью ковариации и среднеквадратичных отклонений двух признаков, а затем с использованием функций из библиотек numpy и pandas."
   ]
  },
  {
   "cell_type": "code",
   "execution_count": 1,
   "id": "3b0bc221",
   "metadata": {
    "scrolled": true
   },
   "outputs": [],
   "source": [
    "\n",
    "import numpy as np\n",
    "import pandas as pnd\n",
    "\n",
    "zp = np.array([35, 45, 190, 200, 40, 70, 54, 150, 120, 110])\n",
    "ks = np.array([401, 574, 874, 919, 459, 739, 653, 902, 746, 832])\n"
   ]
  },
  {
   "cell_type": "markdown",
   "id": "7e0c6908",
   "metadata": {},
   "source": [
    "Коэффициэнт корреляции Пирсона"
   ]
  },
  {
   "cell_type": "code",
   "execution_count": 2,
   "id": "5ea4e327",
   "metadata": {},
   "outputs": [
    {
     "data": {
      "text/plain": [
       "array([[1.        , 0.88749009],\n",
       "       [0.88749009, 1.        ]])"
      ]
     },
     "execution_count": 2,
     "metadata": {},
     "output_type": "execute_result"
    }
   ],
   "source": [
    "np. corrcoef (zp, ks)"
   ]
  },
  {
   "cell_type": "code",
   "execution_count": 3,
   "id": "651e92f5",
   "metadata": {},
   "outputs": [
    {
     "data": {
      "text/plain": [
       "9157.839999999997"
      ]
     },
     "execution_count": 3,
     "metadata": {},
     "output_type": "execute_result"
    }
   ],
   "source": [
    "cov = np.mean(zp*ks) - np.mean (zp) * np.mean (ks) \n",
    "cov"
   ]
  },
  {
   "cell_type": "markdown",
   "id": "b098e021",
   "metadata": {},
   "source": [
    "Несмещенная ковариация"
   ]
  },
  {
   "cell_type": "code",
   "execution_count": 4,
   "id": "ad412b75",
   "metadata": {},
   "outputs": [
    {
     "data": {
      "text/plain": [
       "array([[ 3882.93333333, 10175.37777778],\n",
       "       [10175.37777778, 33854.32222222]])"
      ]
     },
     "execution_count": 4,
     "metadata": {},
     "output_type": "execute_result"
    }
   ],
   "source": [
    "np.cov (zp, ks)"
   ]
  },
  {
   "cell_type": "code",
   "execution_count": 5,
   "id": "ac272580",
   "metadata": {},
   "outputs": [
    {
     "data": {
      "text/plain": [
       "62.31318747531162"
      ]
     },
     "execution_count": 5,
     "metadata": {},
     "output_type": "execute_result"
    }
   ],
   "source": [
    "np.std (zp,ddof=1)"
   ]
  },
  {
   "cell_type": "code",
   "execution_count": 6,
   "id": "1b55b6e6",
   "metadata": {},
   "outputs": [
    {
     "data": {
      "text/plain": [
       "183.99544076477068"
      ]
     },
     "execution_count": 6,
     "metadata": {},
     "output_type": "execute_result"
    }
   ],
   "source": [
    "np.std (ks,ddof=1)"
   ]
  },
  {
   "cell_type": "markdown",
   "id": "f0e2f15a",
   "metadata": {},
   "source": [
    "Коэффициэнт корреляции Пирсона"
   ]
  },
  {
   "cell_type": "code",
   "execution_count": 7,
   "id": "46962739",
   "metadata": {},
   "outputs": [
    {
     "data": {
      "text/plain": [
       "0.88749009207411"
      ]
     },
     "execution_count": 7,
     "metadata": {},
     "output_type": "execute_result"
    }
   ],
   "source": [
    "10175.37777778/(62.31318747531162*183.99544076477068)"
   ]
  },
  {
   "cell_type": "markdown",
   "id": "0d064990",
   "metadata": {},
   "source": [
    "Смещенная ковариация"
   ]
  },
  {
   "cell_type": "code",
   "execution_count": 8,
   "id": "9956c71e",
   "metadata": {},
   "outputs": [
    {
     "data": {
      "text/plain": [
       "array([[ 3176.94545455,  8325.30909091],\n",
       "       [ 8325.30909091, 27698.99090909]])"
      ]
     },
     "execution_count": 8,
     "metadata": {},
     "output_type": "execute_result"
    }
   ],
   "source": [
    "np.cov (zp, ks, ddof = -1)"
   ]
  },
  {
   "cell_type": "code",
   "execution_count": 9,
   "id": "2ba0de09",
   "metadata": {},
   "outputs": [
    {
     "data": {
      "text/plain": [
       "56.364398821822405"
      ]
     },
     "execution_count": 9,
     "metadata": {},
     "output_type": "execute_result"
    }
   ],
   "source": [
    "np.std (zp,ddof=-1)"
   ]
  },
  {
   "cell_type": "code",
   "execution_count": 10,
   "id": "523375dc",
   "metadata": {},
   "outputs": [
    {
     "data": {
      "text/plain": [
       "166.4301382234928"
      ]
     },
     "execution_count": 10,
     "metadata": {},
     "output_type": "execute_result"
    }
   ],
   "source": [
    "np.std (ks,ddof=-1)"
   ]
  },
  {
   "cell_type": "markdown",
   "id": "167978ee",
   "metadata": {},
   "source": [
    "Коэффициэнт корреляции Пирсона"
   ]
  },
  {
   "cell_type": "code",
   "execution_count": 11,
   "id": "22e089dd",
   "metadata": {},
   "outputs": [
    {
     "data": {
      "text/plain": [
       "0.8874900920740129"
      ]
     },
     "execution_count": 11,
     "metadata": {},
     "output_type": "execute_result"
    }
   ],
   "source": [
    "8325.30909091/(56.364398821822405*166.4301382234928)"
   ]
  },
  {
   "cell_type": "markdown",
   "id": "fce51fe1",
   "metadata": {},
   "source": [
    "**Задача 2:** Измерены значения IQ выборки студентов,\n",
    "обучающихся в местных технических вузах:\n",
    "\n",
    "131, 125, 115, 122, 131, 115, 107, 99, 125, 111.\n",
    "\n",
    "Известно, что в генеральной совокупности IQ распределен нормально.\n",
    "\n",
    "Найдите доверительный интервал для математического ожидания с надежностью 0.95"
   ]
  },
  {
   "cell_type": "code",
   "execution_count": 12,
   "id": "eaea9d66",
   "metadata": {},
   "outputs": [],
   "source": [
    "from scipy import stats\n",
    "\n",
    "st = np. array ([131, 125, 115, 122, 131, 115, 107, 99, 125, 111])"
   ]
  },
  {
   "cell_type": "code",
   "execution_count": 13,
   "id": "061a50f6",
   "metadata": {},
   "outputs": [
    {
     "data": {
      "text/plain": [
       "118.1"
      ]
     },
     "execution_count": 13,
     "metadata": {},
     "output_type": "execute_result"
    }
   ],
   "source": [
    "x = np.mean(st)\n",
    "x"
   ]
  },
  {
   "cell_type": "code",
   "execution_count": 14,
   "id": "7c0cd29a",
   "metadata": {},
   "outputs": [
    {
     "data": {
      "text/plain": [
       "111.21111111111111"
      ]
     },
     "execution_count": 14,
     "metadata": {},
     "output_type": "execute_result"
    }
   ],
   "source": [
    "D1 = np.var(st,ddof = 1)\n",
    "D1"
   ]
  },
  {
   "cell_type": "code",
   "execution_count": 15,
   "id": "27b97bde",
   "metadata": {},
   "outputs": [
    {
     "data": {
      "text/plain": [
       "2.2621571627409915"
      ]
     },
     "execution_count": 15,
     "metadata": {},
     "output_type": "execute_result"
    }
   ],
   "source": [
    "t = stats.t.ppf(0.975,9)\n",
    "t"
   ]
  },
  {
   "cell_type": "code",
   "execution_count": 16,
   "id": "45c54ce2",
   "metadata": {},
   "outputs": [
    {
     "data": {
      "text/plain": [
       "110.55608365158724"
      ]
     },
     "execution_count": 16,
     "metadata": {},
     "output_type": "execute_result"
    }
   ],
   "source": [
    "x-t*np.sqrt(D1/10)"
   ]
  },
  {
   "cell_type": "code",
   "execution_count": 17,
   "id": "d89de1fb",
   "metadata": {},
   "outputs": [
    {
     "data": {
      "text/plain": [
       "125.64391634841274"
      ]
     },
     "execution_count": 17,
     "metadata": {},
     "output_type": "execute_result"
    }
   ],
   "source": [
    "x+t*np.sqrt(D1/10)"
   ]
  },
  {
   "cell_type": "markdown",
   "id": "22558349",
   "metadata": {},
   "source": [
    "Доверительный интервал: 110.56;125.64"
   ]
  },
  {
   "cell_type": "markdown",
   "id": "9a62ab71",
   "metadata": {},
   "source": [
    "**Задача 3:** Известно, что рост футболистов в сборной распределен нормально с дисперсией генеральной совокупности, равной 25 кв.см. Объем выборки равен 27, среднее выборочное составляет 174.2. Найдите доверительный интервал для математического ожидания с надежностью 0.95."
   ]
  },
  {
   "cell_type": "code",
   "execution_count": 18,
   "id": "df063168",
   "metadata": {},
   "outputs": [],
   "source": [
    "x_1 = 174.2\n",
    "t_1 = 1.96\n",
    "D = 25\n",
    "n = 27\n"
   ]
  },
  {
   "cell_type": "code",
   "execution_count": 19,
   "id": "e8b87fc8",
   "metadata": {},
   "outputs": [
    {
     "data": {
      "text/plain": [
       "172.31398912064722"
      ]
     },
     "execution_count": 19,
     "metadata": {},
     "output_type": "execute_result"
    }
   ],
   "source": [
    "x_1-t_1*np.sqrt(D/n)"
   ]
  },
  {
   "cell_type": "code",
   "execution_count": 20,
   "id": "6c451186",
   "metadata": {},
   "outputs": [
    {
     "data": {
      "text/plain": [
       "176.08601087935276"
      ]
     },
     "execution_count": 20,
     "metadata": {},
     "output_type": "execute_result"
    }
   ],
   "source": [
    "x_1+t_1*np.sqrt(D/n)"
   ]
  },
  {
   "cell_type": "code",
   "execution_count": 21,
   "id": "acd2a035",
   "metadata": {},
   "outputs": [
    {
     "data": {
      "text/plain": [
       "0.9622504486493763"
      ]
     },
     "execution_count": 21,
     "metadata": {},
     "output_type": "execute_result"
    }
   ],
   "source": [
    "mean_std = np.sqrt(25) / np.sqrt(27)\n",
    "mean_std"
   ]
  },
  {
   "cell_type": "code",
   "execution_count": 22,
   "id": "82f969fd",
   "metadata": {},
   "outputs": [
    {
     "data": {
      "text/plain": [
       "(172.2220658754539, 176.17793412454608)"
      ]
     },
     "execution_count": 22,
     "metadata": {},
     "output_type": "execute_result"
    }
   ],
   "source": [
    "from statsmodels.stats.weightstats import _tconfint_generic as t_stat\n",
    "\n",
    "t_stat(174.2, mean_std,27 - 1, 0.05, 'two-sided')"
   ]
  },
  {
   "cell_type": "code",
   "execution_count": 25,
   "id": "49844bdf",
   "metadata": {},
   "outputs": [
    {
     "data": {
      "text/plain": [
       "3.3348329959851224"
      ]
     },
     "execution_count": 25,
     "metadata": {},
     "output_type": "execute_result"
    }
   ],
   "source": [
    "mean_std_1 = np.sqrt(D1) / np.sqrt(10)\n",
    "mean_std_1"
   ]
  },
  {
   "cell_type": "code",
   "execution_count": 26,
   "id": "8c88d065",
   "metadata": {},
   "outputs": [
    {
     "data": {
      "text/plain": [
       "(110.55608365158724, 125.64391634841274)"
      ]
     },
     "execution_count": 26,
     "metadata": {},
     "output_type": "execute_result"
    }
   ],
   "source": [
    "t_stat(x, mean_std_1,10 - 1, 0.05, 'two-sided')"
   ]
  },
  {
   "cell_type": "code",
   "execution_count": null,
   "id": "1c3d44ed",
   "metadata": {},
   "outputs": [],
   "source": []
  }
 ],
 "metadata": {
  "kernelspec": {
   "display_name": "Python 3 (ipykernel)",
   "language": "python",
   "name": "python3"
  },
  "language_info": {
   "codemirror_mode": {
    "name": "ipython",
    "version": 3
   },
   "file_extension": ".py",
   "mimetype": "text/x-python",
   "name": "python",
   "nbconvert_exporter": "python",
   "pygments_lexer": "ipython3",
   "version": "3.9.13"
  }
 },
 "nbformat": 4,
 "nbformat_minor": 5
}
