{
 "cells": [
  {
   "cell_type": "markdown",
   "id": "ec0b0503",
   "metadata": {},
   "source": [
    "**Задача 1.** Даны значения величины заработной платы заемщиков банка (zp) и значения их поведенческого кредитного скоринга (ks): \n",
    "\n",
    "zp = [35, 45, 190, 200, 40, 70, 54, 150, 120, 110], \n",
    "\n",
    "ks = [401, 574, 874, 919, 459, 739, 653, 902, 746, 832]. \n",
    "\n",
    "Используя математические операции, посчитать коэффициенты линейной регрессии, приняв за X заработную плату (то есть, zp - признак), а за y - значения скорингового балла (то есть, ks - целевая переменная). Произвести расчет как с использованием intercept, так и без.\n",
    "\n",
    "Посчитать коэффициент линейной регрессии при заработной плате (zp), используя градиентный спуск (без intercept)"
   ]
  },
  {
   "cell_type": "code",
   "execution_count": 1,
   "id": "3b0bc221",
   "metadata": {
    "scrolled": true
   },
   "outputs": [
    {
     "data": {
      "text/plain": [
       "10"
      ]
     },
     "execution_count": 1,
     "metadata": {},
     "output_type": "execute_result"
    }
   ],
   "source": [
    "\n",
    "import numpy as np\n",
    "import pandas as pnd\n",
    "\n",
    "zp = np.array([35, 45, 190, 200, 40, 70, 54, 150, 120, 110])\n",
    "ks = np.array([401, 574, 874, 919, 459, 739, 653, 902, 746, 832])\n",
    "n = len(zp)\n",
    "n"
   ]
  },
  {
   "cell_type": "code",
   "execution_count": 2,
   "id": "c6288333",
   "metadata": {},
   "outputs": [
    {
     "data": {
      "text/plain": [
       "array([[ 35],\n",
       "       [ 45],\n",
       "       [190],\n",
       "       [200],\n",
       "       [ 40],\n",
       "       [ 70],\n",
       "       [ 54],\n",
       "       [150],\n",
       "       [120],\n",
       "       [110]])"
      ]
     },
     "execution_count": 2,
     "metadata": {},
     "output_type": "execute_result"
    }
   ],
   "source": [
    "x = zp.reshape([10,1])\n",
    "x"
   ]
  },
  {
   "cell_type": "code",
   "execution_count": 3,
   "id": "7af19293",
   "metadata": {},
   "outputs": [
    {
     "data": {
      "text/plain": [
       "array([[401],\n",
       "       [574],\n",
       "       [874],\n",
       "       [919],\n",
       "       [459],\n",
       "       [739],\n",
       "       [653],\n",
       "       [902],\n",
       "       [746],\n",
       "       [832]])"
      ]
     },
     "execution_count": 3,
     "metadata": {},
     "output_type": "execute_result"
    }
   ],
   "source": [
    "y = ks.reshape([10,1])\n",
    "y"
   ]
  },
  {
   "cell_type": "code",
   "execution_count": 4,
   "id": "d4d8b95a",
   "metadata": {},
   "outputs": [
    {
     "data": {
      "text/plain": [
       "array([[  1.,  35.],\n",
       "       [  1.,  45.],\n",
       "       [  1., 190.],\n",
       "       [  1., 200.],\n",
       "       [  1.,  40.],\n",
       "       [  1.,  70.],\n",
       "       [  1.,  54.],\n",
       "       [  1., 150.],\n",
       "       [  1., 120.],\n",
       "       [  1., 110.]])"
      ]
     },
     "execution_count": 4,
     "metadata": {},
     "output_type": "execute_result"
    }
   ],
   "source": [
    "X = np.hstack([np.ones([10,1]),x])\n",
    "X"
   ]
  },
  {
   "cell_type": "code",
   "execution_count": 5,
   "id": "ed2198be",
   "metadata": {},
   "outputs": [
    {
     "data": {
      "text/plain": [
       "array([[444.17735732],\n",
       "       [  2.62053888]])"
      ]
     },
     "execution_count": 5,
     "metadata": {},
     "output_type": "execute_result"
    }
   ],
   "source": [
    "B = np.dot(np.linalg.inv(np.dot(X.T,X)),X.T @ y)\n",
    "B"
   ]
  },
  {
   "cell_type": "code",
   "execution_count": 6,
   "id": "0d364367",
   "metadata": {},
   "outputs": [
    {
     "data": {
      "text/plain": [
       "2.620538882402765"
      ]
     },
     "execution_count": 6,
     "metadata": {},
     "output_type": "execute_result"
    }
   ],
   "source": [
    "b1 = (np.mean(zp*ks)-np.mean(zp)*np.mean(ks))/(np.mean(zp**2)-np.mean(zp)**2)\n",
    "b1"
   ]
  },
  {
   "cell_type": "code",
   "execution_count": 7,
   "id": "46c10f19",
   "metadata": {},
   "outputs": [
    {
     "data": {
      "text/plain": [
       "444.1773573243596"
      ]
     },
     "execution_count": 7,
     "metadata": {},
     "output_type": "execute_result"
    }
   ],
   "source": [
    "b0 = np.mean(ks)-b1*np.mean(zp)\n",
    "b0"
   ]
  },
  {
   "cell_type": "code",
   "execution_count": 8,
   "id": "1ecc724e",
   "metadata": {},
   "outputs": [
    {
     "data": {
      "text/plain": [
       "array([535.89621821, 562.10160703, 942.07974498, 968.2851338 ,\n",
       "       548.99891262, 627.61507909, 585.68645697, 837.25818968,\n",
       "       758.64202321, 732.43663439])"
      ]
     },
     "execution_count": 8,
     "metadata": {},
     "output_type": "execute_result"
    }
   ],
   "source": [
    "y_pred = b0+b1*zp\n",
    "y_pred"
   ]
  },
  {
   "cell_type": "code",
   "execution_count": 9,
   "id": "e6d707c9",
   "metadata": {},
   "outputs": [
    {
     "data": {
      "text/plain": [
       "array([ 91.71886088, 117.92424971, 497.90238766, 524.10777648,\n",
       "       104.8215553 , 183.43772177, 141.50909965, 393.08083236,\n",
       "       314.46466589, 288.25927706])"
      ]
     },
     "execution_count": 9,
     "metadata": {},
     "output_type": "execute_result"
    }
   ],
   "source": [
    "y_pred1 = b1*zp\n",
    "y_pred1"
   ]
  },
  {
   "cell_type": "code",
   "execution_count": 12,
   "id": "432fff5a",
   "metadata": {},
   "outputs": [],
   "source": [
    "from sklearn.linear_model import LinearRegression\n",
    "\n",
    "model = LinearRegression()"
   ]
  },
  {
   "cell_type": "code",
   "execution_count": 13,
   "id": "d91dea78",
   "metadata": {},
   "outputs": [
    {
     "data": {
      "text/plain": [
       "array([[ 35],\n",
       "       [ 45],\n",
       "       [190],\n",
       "       [200],\n",
       "       [ 40],\n",
       "       [ 70],\n",
       "       [ 54],\n",
       "       [150],\n",
       "       [120],\n",
       "       [110]])"
      ]
     },
     "execution_count": 13,
     "metadata": {},
     "output_type": "execute_result"
    }
   ],
   "source": [
    "zp=zp.reshape(-1,1)\n",
    "zp"
   ]
  },
  {
   "cell_type": "code",
   "execution_count": 14,
   "id": "aab02b52",
   "metadata": {},
   "outputs": [
    {
     "data": {
      "text/plain": [
       "array([5.88982042])"
      ]
     },
     "execution_count": 14,
     "metadata": {},
     "output_type": "execute_result"
    }
   ],
   "source": [
    "B = np.dot(np.linalg.inv(np.dot(zp.T,zp)),np.dot(zp.T,ks))\n",
    "B"
   ]
  },
  {
   "cell_type": "code",
   "execution_count": 15,
   "id": "37d02b16",
   "metadata": {},
   "outputs": [
    {
     "name": "stdout",
     "output_type": "stream",
     "text": [
      "444.17735732435955\n"
     ]
    }
   ],
   "source": [
    "regres = model.fit(zp,ks)\n",
    "print(regres.intercept_)"
   ]
  },
  {
   "cell_type": "code",
   "execution_count": 16,
   "id": "5137c08b",
   "metadata": {},
   "outputs": [
    {
     "name": "stdout",
     "output_type": "stream",
     "text": [
      "[2.62053888]\n"
     ]
    }
   ],
   "source": [
    "print(regres.coef_)"
   ]
  },
  {
   "cell_type": "markdown",
   "id": "8778eafb",
   "metadata": {},
   "source": [
    "***2. Метод градиентного спуска***"
   ]
  },
  {
   "cell_type": "code",
   "execution_count": 17,
   "id": "8da838ee",
   "metadata": {},
   "outputs": [],
   "source": [
    "\n",
    " def mse_(B1,y=y,x=x,n=n):\n",
    "    return np.sum((B1*x-y)**2)/n"
   ]
  },
  {
   "cell_type": "code",
   "execution_count": 19,
   "id": "d60f9c39",
   "metadata": {},
   "outputs": [
    {
     "name": "stdout",
     "output_type": "stream",
     "text": [
      "Interation=0, B1=0.25952808, mse=493237.7212546963\n",
      "Interation=500, B1=5.889815595583751, mse=56516.858416040064\n",
      "Interation=1000, B1=5.8898204201285544, mse=56516.85841571941\n",
      "Interation=1500, B1=5.889820420132673, mse=56516.85841571943\n",
      "Interation=2000, B1=5.889820420132673, mse=56516.85841571943\n",
      "Interation=2500, B1=5.889820420132673, mse=56516.85841571943\n"
     ]
    }
   ],
   "source": [
    "alpha = 1e-6\n",
    "B1 = 0.1\n",
    "for i in range (3000):\n",
    "        B1 -= alpha*(2/n)*np.sum((B1*x-y)*x)\n",
    "        if i % 500 == 0:\n",
    "           print ('Interation={i}, B1={B1}, mse={mse}'.format(i=i,B1=B1,mse=mse_(B1)))\n",
    "           "
   ]
  },
  {
   "cell_type": "code",
   "execution_count": 20,
   "id": "f028a482",
   "metadata": {},
   "outputs": [
    {
     "data": {
      "text/plain": [
       "56516.85841572182"
      ]
     },
     "execution_count": 20,
     "metadata": {},
     "output_type": "execute_result"
    }
   ],
   "source": [
    "mse_(5.88982)"
   ]
  },
  {
   "cell_type": "code",
   "execution_count": null,
   "id": "a4a610b2",
   "metadata": {},
   "outputs": [],
   "source": []
  }
 ],
 "metadata": {
  "kernelspec": {
   "display_name": "Python 3 (ipykernel)",
   "language": "python",
   "name": "python3"
  },
  "language_info": {
   "codemirror_mode": {
    "name": "ipython",
    "version": 3
   },
   "file_extension": ".py",
   "mimetype": "text/x-python",
   "name": "python",
   "nbconvert_exporter": "python",
   "pygments_lexer": "ipython3",
   "version": "3.9.13"
  }
 },
 "nbformat": 4,
 "nbformat_minor": 5
}
