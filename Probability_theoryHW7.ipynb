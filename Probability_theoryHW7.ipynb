{
 "cells": [
  {
   "cell_type": "markdown",
   "id": "c8f3d4e1",
   "metadata": {},
   "source": [
    "**Задача 1.** Даны две независимые выборки. Не соблюдается условие нормальности\n",
    "\n",
    "x1 380,420, 290\n",
    "\n",
    "y1 140,360,200,900\n",
    "\n",
    "Сделайте вывод по результатам, полученным с помощью функции, имеются ли статистические различия между группами?"
   ]
  },
  {
   "cell_type": "code",
   "execution_count": 1,
   "id": "3b0bc221",
   "metadata": {
    "scrolled": true
   },
   "outputs": [],
   "source": [
    "#1\n",
    "import numpy as np\n",
    "\n",
    "x1 = np.array([380,420, 290])\n",
    "x2 = np.array([140,360,200,900])\n"
   ]
  },
  {
   "cell_type": "code",
   "execution_count": 2,
   "id": "10cb1126",
   "metadata": {},
   "outputs": [
    {
     "name": "stdout",
     "output_type": "stream",
     "text": [
      "ShapiroResult(statistic=0.9530075788497925, pvalue=0.5826717019081116)\n",
      "ShapiroResult(statistic=0.8388900756835938, pvalue=0.19218628108501434)\n"
     ]
    }
   ],
   "source": [
    "# проверка на нормальность\n",
    "\n",
    "from scipy import stats\n",
    "\n",
    "print(stats.shapiro(x1))\n",
    "print(stats.shapiro(x2))"
   ]
  },
  {
   "cell_type": "code",
   "execution_count": 3,
   "id": "3b3cea01",
   "metadata": {},
   "outputs": [
    {
     "data": {
      "text/plain": [
       "MannwhitneyuResult(statistic=8.0, pvalue=0.6285714285714286)"
      ]
     },
     "execution_count": 3,
     "metadata": {},
     "output_type": "execute_result"
    }
   ],
   "source": [
    "stats.mannwhitneyu(x1,x2)"
   ]
  },
  {
   "cell_type": "markdown",
   "id": "29cdbd48",
   "metadata": {},
   "source": [
    "**Вывод:** Между группами НЕ наблюдаются статистические различия."
   ]
  },
  {
   "cell_type": "markdown",
   "id": "983f3ccf",
   "metadata": {},
   "source": [
    "**Задача 2.** Исследовалось влияние препарата на уровень давления пациентов. Сначала\n",
    "измерялось давление до приема препарата, потом через 10 минут и через 30 минут. Есть\n",
    "ли статистически значимые различия между измерениями давления? В выборках не соблюдается условие нормальности.\n",
    "\n",
    "1е измерение до приема препарата: 150, 160, 165, 145, 155\n",
    "\n",
    "2е измерение через 10 минут: 140, 155, 150, 130, 135\n",
    "\n",
    "3е измерение через 30 минут: 130, 130, 120, 130, 125"
   ]
  },
  {
   "cell_type": "code",
   "execution_count": 4,
   "id": "efd3073b",
   "metadata": {},
   "outputs": [],
   "source": [
    "before = np.array([150, 160, 165, 145, 155])\n",
    "ten_min = np.array([140, 155, 150, 130, 135])\n",
    "thirty_min = np.array([130, 130, 120, 130, 125])"
   ]
  },
  {
   "cell_type": "code",
   "execution_count": 5,
   "id": "85fccd4f",
   "metadata": {},
   "outputs": [
    {
     "data": {
      "text/plain": [
       "FriedmanchisquareResult(statistic=9.578947368421062, pvalue=0.00831683351100441)"
      ]
     },
     "execution_count": 5,
     "metadata": {},
     "output_type": "execute_result"
    }
   ],
   "source": [
    "stats.friedmanchisquare(before, ten_min, thirty_min)"
   ]
  },
  {
   "cell_type": "markdown",
   "id": "2e452af8",
   "metadata": {},
   "source": [
    "**Вывод:** Статистические различия между измерениями ЕСТЬ"
   ]
  },
  {
   "cell_type": "markdown",
   "id": "e32ee09d",
   "metadata": {},
   "source": [
    "**Задача 3.** Сравните 1 и 2 е измерения, предполагая, что 3го измерения через 30 минут не было. Есть\n",
    "ли статистически значимые различия между измерениями давления?"
   ]
  },
  {
   "cell_type": "code",
   "execution_count": 6,
   "id": "b5e8f12c",
   "metadata": {},
   "outputs": [
    {
     "data": {
      "text/plain": [
       "WilcoxonResult(statistic=0.0, pvalue=0.0625)"
      ]
     },
     "execution_count": 6,
     "metadata": {},
     "output_type": "execute_result"
    }
   ],
   "source": [
    "stats.wilcoxon(before, ten_min)"
   ]
  },
  {
   "cell_type": "markdown",
   "id": "a9210217",
   "metadata": {},
   "source": [
    "**Вывод:** Между группами НЕ наблюдаются статистические различия."
   ]
  },
  {
   "cell_type": "markdown",
   "id": "e5a5b054",
   "metadata": {},
   "source": [
    "**Задача 4.** Даны 3 группы учеников плавания. Не соблюдается условие нормальности.\n",
    "\n",
    "В 1 группе время на дистанцию 50 м составляют:\n",
    "56, 60, 62, 55, 71, 67, 59, 58, 64, 67\n",
    "\n",
    "Вторая группа : 57, 58, 69, 48, 72, 70, 68, 71, 50, 53\n",
    "\n",
    "Третья группа: 57, 67, 49, 48, 47, 55, 66, 51, 54\n",
    "\n",
    "Есть\n",
    "ли статистически значимые различия между группами?"
   ]
  },
  {
   "cell_type": "code",
   "execution_count": 7,
   "id": "3ac3bb66",
   "metadata": {},
   "outputs": [],
   "source": [
    "gr1 = np.array([56, 60, 62, 55, 71, 67, 59, 58, 64, 67])\n",
    "gr2 = np.array([57, 58, 69, 48, 72, 70, 68, 71, 50, 53])\n",
    "gr3 = np.array([57, 67, 49, 48, 47, 55, 66, 51, 54])"
   ]
  },
  {
   "cell_type": "code",
   "execution_count": 8,
   "id": "ec72f7c0",
   "metadata": {},
   "outputs": [
    {
     "data": {
      "text/plain": [
       "KruskalResult(statistic=5.465564058257224, pvalue=0.0650380998590494)"
      ]
     },
     "execution_count": 8,
     "metadata": {},
     "output_type": "execute_result"
    }
   ],
   "source": [
    "stats. kruskal(gr1, gr2, gr3)"
   ]
  },
  {
   "cell_type": "markdown",
   "id": "03cac8c4",
   "metadata": {},
   "source": [
    "**Вывод:** Между группами НЕ наблюдаются статистические различия."
   ]
  },
  {
   "cell_type": "code",
   "execution_count": null,
   "id": "c56c4b44",
   "metadata": {},
   "outputs": [],
   "source": []
  }
 ],
 "metadata": {
  "kernelspec": {
   "display_name": "Python 3 (ipykernel)",
   "language": "python",
   "name": "python3"
  },
  "language_info": {
   "codemirror_mode": {
    "name": "ipython",
    "version": 3
   },
   "file_extension": ".py",
   "mimetype": "text/x-python",
   "name": "python",
   "nbconvert_exporter": "python",
   "pygments_lexer": "ipython3",
   "version": "3.9.13"
  }
 },
 "nbformat": 4,
 "nbformat_minor": 5
}
